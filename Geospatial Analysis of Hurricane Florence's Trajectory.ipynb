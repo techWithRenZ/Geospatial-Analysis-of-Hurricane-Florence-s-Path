{
 "cells": [
  {
   "cell_type": "markdown",
   "metadata": {},
   "source": [
    "### Geospatial Analysis and Visualization of Hurricane Florence's Trajectory: Unveiling Patterns and Implications from August 30th to September 18th, 2018\n",
    "\n",
    "Hurricane Florence left an estimated property damage and disruption amounting to [$17-22 billion](https://www.cnbc.com/2018/09/17/moodys-hurricane-florence-damage-estimated-at-17-to-22-billion.html) when it passed through part of the East Coast of the United States, according to Moody's Analytics.\n",
    "\n",
    "This project aims to find out where it came from, when and where it got stronger, and understand more about this natural disaster using Python."
   ]
  },
  {
   "cell_type": "markdown",
   "metadata": {},
   "source": [
    "#### Importing all necessary packages"
   ]
  },
  {
   "cell_type": "markdown",
   "metadata": {},
   "source": [
    "Data sources:\n",
    "\n",
    "US States deospatial data, 5m, GeoJSON file: https://eric.clst.org/tech/usgeojson/\n",
    "\n",
    "Hurricane Florence data, florence.csv: https://flhurricane.com/cyclone/stormhistory.php?storm=6&year=2018\n",
    "\n"
   ]
  },
  {
   "cell_type": "code",
   "execution_count": 111,
   "metadata": {},
   "outputs": [],
   "source": [
    "import numpy as np\n",
    "import pandas as pd\n",
    "import seaborn as sns\n",
    "import matplotlib.pyplot as plt\n",
    "import geopandas\n",
    "from shapely.geometry import Point\n",
    "import missingno as msn\n",
    "\n",
    "%matplotlib inline\n"
   ]
  },
  {
   "cell_type": "code",
   "execution_count": 112,
   "metadata": {},
   "outputs": [
    {
     "data": {
      "text/html": [
       "<div>\n",
       "<style scoped>\n",
       "    .dataframe tbody tr th:only-of-type {\n",
       "        vertical-align: middle;\n",
       "    }\n",
       "\n",
       "    .dataframe tbody tr th {\n",
       "        vertical-align: top;\n",
       "    }\n",
       "\n",
       "    .dataframe thead th {\n",
       "        text-align: right;\n",
       "    }\n",
       "</style>\n",
       "<table border=\"1\" class=\"dataframe\">\n",
       "  <thead>\n",
       "    <tr style=\"text-align: right;\">\n",
       "      <th></th>\n",
       "      <th>GEO_ID</th>\n",
       "      <th>STATE</th>\n",
       "      <th>NAME</th>\n",
       "      <th>LSAD</th>\n",
       "      <th>CENSUSAREA</th>\n",
       "      <th>geometry</th>\n",
       "    </tr>\n",
       "  </thead>\n",
       "  <tbody>\n",
       "    <tr>\n",
       "      <th>0</th>\n",
       "      <td>0400000US01</td>\n",
       "      <td>01</td>\n",
       "      <td>Alabama</td>\n",
       "      <td></td>\n",
       "      <td>50645.326</td>\n",
       "      <td>MULTIPOLYGON (((-88.12466 30.28364, -88.08681 ...</td>\n",
       "    </tr>\n",
       "    <tr>\n",
       "      <th>1</th>\n",
       "      <td>0400000US02</td>\n",
       "      <td>02</td>\n",
       "      <td>Alaska</td>\n",
       "      <td></td>\n",
       "      <td>570640.950</td>\n",
       "      <td>MULTIPOLYGON (((-166.10574 53.98861, -166.0752...</td>\n",
       "    </tr>\n",
       "    <tr>\n",
       "      <th>2</th>\n",
       "      <td>0400000US04</td>\n",
       "      <td>04</td>\n",
       "      <td>Arizona</td>\n",
       "      <td></td>\n",
       "      <td>113594.084</td>\n",
       "      <td>POLYGON ((-112.53859 37.00067, -112.53454 37.0...</td>\n",
       "    </tr>\n",
       "    <tr>\n",
       "      <th>3</th>\n",
       "      <td>0400000US05</td>\n",
       "      <td>05</td>\n",
       "      <td>Arkansas</td>\n",
       "      <td></td>\n",
       "      <td>52035.477</td>\n",
       "      <td>POLYGON ((-94.04296 33.01922, -94.04304 33.079...</td>\n",
       "    </tr>\n",
       "    <tr>\n",
       "      <th>4</th>\n",
       "      <td>0400000US06</td>\n",
       "      <td>06</td>\n",
       "      <td>California</td>\n",
       "      <td></td>\n",
       "      <td>155779.220</td>\n",
       "      <td>MULTIPOLYGON (((-122.42144 37.86997, -122.4213...</td>\n",
       "    </tr>\n",
       "  </tbody>\n",
       "</table>\n",
       "</div>"
      ],
      "text/plain": [
       "        GEO_ID STATE        NAME LSAD  CENSUSAREA  \\\n",
       "0  0400000US01    01     Alabama        50645.326   \n",
       "1  0400000US02    02      Alaska       570640.950   \n",
       "2  0400000US04    04     Arizona       113594.084   \n",
       "3  0400000US05    05    Arkansas        52035.477   \n",
       "4  0400000US06    06  California       155779.220   \n",
       "\n",
       "                                            geometry  \n",
       "0  MULTIPOLYGON (((-88.12466 30.28364, -88.08681 ...  \n",
       "1  MULTIPOLYGON (((-166.10574 53.98861, -166.0752...  \n",
       "2  POLYGON ((-112.53859 37.00067, -112.53454 37.0...  \n",
       "3  POLYGON ((-94.04296 33.01922, -94.04304 33.079...  \n",
       "4  MULTIPOLYGON (((-122.42144 37.86997, -122.4213...  "
      ]
     },
     "execution_count": 112,
     "metadata": {},
     "output_type": "execute_result"
    }
   ],
   "source": [
    "country = geopandas.read_file(\"C:/Users/Renz/Documents/GitHub/Geospatial Analysis of Hurricane Florence's Path/Geospatial-Analysis-of-Hurricane-Florence-s-Path/gz_2010_us_040_00_5m.json\")\n",
    "country.head()"
   ]
  },
  {
   "cell_type": "code",
   "execution_count": 113,
   "metadata": {},
   "outputs": [
    {
     "data": {
      "text/plain": [
       "geopandas.geodataframe.GeoDataFrame"
      ]
     },
     "execution_count": 113,
     "metadata": {},
     "output_type": "execute_result"
    }
   ],
   "source": [
    "type(country)"
   ]
  },
  {
   "cell_type": "code",
   "execution_count": 114,
   "metadata": {},
   "outputs": [
    {
     "data": {
      "text/plain": [
       "0    MULTIPOLYGON (((-88.12466 30.28364, -88.08681 ...\n",
       "1    MULTIPOLYGON (((-166.10574 53.98861, -166.0752...\n",
       "2    POLYGON ((-112.53859 37.00067, -112.53454 37.0...\n",
       "3    POLYGON ((-94.04296 33.01922, -94.04304 33.079...\n",
       "4    MULTIPOLYGON (((-122.42144 37.86997, -122.4213...\n",
       "Name: geometry, dtype: geometry"
      ]
     },
     "execution_count": 114,
     "metadata": {},
     "output_type": "execute_result"
    }
   ],
   "source": [
    "country.geometry.head()"
   ]
  },
  {
   "cell_type": "code",
   "execution_count": 115,
   "metadata": {},
   "outputs": [
    {
     "data": {
      "text/plain": [
       "geopandas.geoseries.GeoSeries"
      ]
     },
     "execution_count": 115,
     "metadata": {},
     "output_type": "execute_result"
    }
   ],
   "source": [
    "type(country.geometry)"
   ]
  },
  {
   "cell_type": "code",
   "execution_count": 116,
   "metadata": {},
   "outputs": [
    {
     "data": {
      "text/plain": [
       "shapely.geometry.multipolygon.MultiPolygon"
      ]
     },
     "execution_count": 116,
     "metadata": {},
     "output_type": "execute_result"
    }
   ],
   "source": [
    "type(country.geometry[0])"
   ]
  },
  {
   "cell_type": "code",
   "execution_count": 117,
   "metadata": {},
   "outputs": [
    {
     "data": {
      "text/plain": [
       "<Axes: >"
      ]
     },
     "execution_count": 117,
     "metadata": {},
     "output_type": "execute_result"
    },
    {
     "data": {
      "image/png": "[encoded data removed]",
      "text/plain": [
       "<Figure size 640x480 with 1 Axes>"
      ]
     },
     "metadata": {},
     "output_type": "display_data"
    }
   ],
   "source": [
    "country.plot()"
   ]
  },
  {
   "cell_type": "code",
   "execution_count": null,
   "metadata": {},
   "outputs": [],
   "source": [
    "# Excluding Alaska and Hawaii\n",
    "country[country['NAME'].isin(['Alaska', 'Hawaii'])== False].plot(figsize = (30, 20), color='#3B3C6E')"
   ]
  },
  {
   "cell_type": "code",
   "execution_count": 119,
   "metadata": {},
   "outputs": [
    {
     "data": {
      "text/html": [
       "<div>\n",
       "<style scoped>\n",
       "    .dataframe tbody tr th:only-of-type {\n",
       "        vertical-align: middle;\n",
       "    }\n",
       "\n",
       "    .dataframe tbody tr th {\n",
       "        vertical-align: top;\n",
       "    }\n",
       "\n",
       "    .dataframe thead th {\n",
       "        text-align: right;\n",
       "    }\n",
       "</style>\n",
       "<table border=\"1\" class=\"dataframe\">\n",
       "  <thead>\n",
       "    <tr style=\"text-align: right;\">\n",
       "      <th></th>\n",
       "      <th>AdvisoryNumber</th>\n",
       "      <th>Date</th>\n",
       "      <th>Lat</th>\n",
       "      <th>Long</th>\n",
       "      <th>Wind</th>\n",
       "      <th>Pres</th>\n",
       "      <th>Movement</th>\n",
       "      <th>Type</th>\n",
       "      <th>Name</th>\n",
       "      <th>Received</th>\n",
       "      <th>Forecaster</th>\n",
       "    </tr>\n",
       "  </thead>\n",
       "  <tbody>\n",
       "    <tr>\n",
       "      <th>0</th>\n",
       "      <td>1</td>\n",
       "      <td>08/30/2018 11:00</td>\n",
       "      <td>12.9</td>\n",
       "      <td>18.4</td>\n",
       "      <td>48.0</td>\n",
       "      <td>1007</td>\n",
       "      <td>W at 12 MPH (280 deg)</td>\n",
       "      <td>Potential Tropical Cyclone</td>\n",
       "      <td>Six</td>\n",
       "      <td>08/30/2018 10:45</td>\n",
       "      <td>Avila</td>\n",
       "    </tr>\n",
       "    <tr>\n",
       "      <th>1</th>\n",
       "      <td>1A</td>\n",
       "      <td>08/30/2018 14:00</td>\n",
       "      <td>12.9</td>\n",
       "      <td>19.0</td>\n",
       "      <td>48.0</td>\n",
       "      <td>1007</td>\n",
       "      <td>W at 12 MPH (280 deg)</td>\n",
       "      <td>Potential Tropical Cyclone</td>\n",
       "      <td>Six</td>\n",
       "      <td>08/30/2018 13:36</td>\n",
       "      <td>Avila</td>\n",
       "    </tr>\n",
       "    <tr>\n",
       "      <th>2</th>\n",
       "      <td>2</td>\n",
       "      <td>08/30/2018 17:00</td>\n",
       "      <td>12.9</td>\n",
       "      <td>19.4</td>\n",
       "      <td>48.0</td>\n",
       "      <td>1007</td>\n",
       "      <td>W at 9 MPH (280 deg)</td>\n",
       "      <td>Potential Tropical Cyclone</td>\n",
       "      <td>Six</td>\n",
       "      <td>08/30/2018 16:36</td>\n",
       "      <td>Avila</td>\n",
       "    </tr>\n",
       "    <tr>\n",
       "      <th>3</th>\n",
       "      <td>2A</td>\n",
       "      <td>08/30/2018 20:00</td>\n",
       "      <td>13.1</td>\n",
       "      <td>20.4</td>\n",
       "      <td>48.0</td>\n",
       "      <td>1007</td>\n",
       "      <td>W at 11 MPH (280 deg)</td>\n",
       "      <td>Potential Tropical Cyclone</td>\n",
       "      <td>Six</td>\n",
       "      <td>08/30/2018 19:44</td>\n",
       "      <td>Beven</td>\n",
       "    </tr>\n",
       "    <tr>\n",
       "      <th>4</th>\n",
       "      <td>3</td>\n",
       "      <td>08/30/2018 23:00</td>\n",
       "      <td>13.2</td>\n",
       "      <td>20.9</td>\n",
       "      <td>56.0</td>\n",
       "      <td>1007</td>\n",
       "      <td>W at 13 MPH (280 deg)</td>\n",
       "      <td>Potential Tropical Cyclone</td>\n",
       "      <td>Six</td>\n",
       "      <td>08/30/2018 22:42</td>\n",
       "      <td>Beven</td>\n",
       "    </tr>\n",
       "  </tbody>\n",
       "</table>\n",
       "</div>"
      ],
      "text/plain": [
       "  AdvisoryNumber              Date   Lat  Long  Wind  Pres  \\\n",
       "0              1  08/30/2018 11:00  12.9  18.4  48.0  1007   \n",
       "1             1A  08/30/2018 14:00  12.9  19.0  48.0  1007   \n",
       "2              2  08/30/2018 17:00  12.9  19.4  48.0  1007   \n",
       "3             2A  08/30/2018 20:00  13.1  20.4  48.0  1007   \n",
       "4              3  08/30/2018 23:00  13.2  20.9  56.0  1007   \n",
       "\n",
       "                Movement                        Type Name          Received  \\\n",
       "0  W at 12 MPH (280 deg)  Potential Tropical Cyclone  Six  08/30/2018 10:45   \n",
       "1  W at 12 MPH (280 deg)  Potential Tropical Cyclone  Six  08/30/2018 13:36   \n",
       "2   W at 9 MPH (280 deg)  Potential Tropical Cyclone  Six  08/30/2018 16:36   \n",
       "3  W at 11 MPH (280 deg)  Potential Tropical Cyclone  Six  08/30/2018 19:44   \n",
       "4  W at 13 MPH (280 deg)  Potential Tropical Cyclone  Six  08/30/2018 22:42   \n",
       "\n",
       "  Forecaster  \n",
       "0      Avila  \n",
       "1      Avila  \n",
       "2      Avila  \n",
       "3      Beven  \n",
       "4      Beven  "
      ]
     },
     "execution_count": 119,
     "metadata": {},
     "output_type": "execute_result"
    }
   ],
   "source": [
    "florence = pd.read_csv(\"C:/Users/Renz/Documents/GitHub/Geospatial Analysis of Hurricane Florence's Path/Geospatial-Analysis-of-Hurricane-Florence-s-Path/florence.csv\")\n",
    "\n",
    "# Converting wind speed to kilometers per hour\n",
    "florence['Wind'] = florence['Wind'] * 1.60934\n",
    "florence['Wind'] = florence['Wind'].round()\n",
    "\n",
    "florence.head()"
   ]
  },
  {
   "cell_type": "code",
   "execution_count": 136,
   "metadata": {},
   "outputs": [
    {
     "data": {
      "text/plain": [
       "array(['None', 'Hurricane Category 1', 'Hurricane Category 2',\n",
       "       'Hurricane Category 3', 'Hurricane Category 4'], dtype=object)"
      ]
     },
     "execution_count": 136,
     "metadata": {},
     "output_type": "execute_result"
    }
   ],
   "source": [
    "# Define Saffir-Simpson category thresholds (kph)\n",
    "hurricane_category = {\n",
    "    1: (119, 153),\n",
    "    2: (154, 177),\n",
    "    3: (178, 208),\n",
    "    4: (209, 251),\n",
    "    5: (252, float('inf'))}\n",
    "\n",
    "# Create a new column for category based on wind speed\n",
    "def categorize_hurricane(speed_kph):\n",
    "    for category, (lower, upper) in hurricane_category.items():\n",
    "        if lower <= speed_kph <= upper:\n",
    "            return f'Hurricane Category {category}'\n",
    "    return 'None'\n",
    "\n",
    "florence['Hurricane Category'] = florence['Wind'].apply(categorize_hurricane)\n",
    "\n",
    "#not_hurricane = florence['Hurricane Category'].isnull()\n",
    "#florence.loc[not_hurricane, 'Hurricane Category'] = florence.loc[not_hurricane, 'Type']\n",
    "florence['Hurricane Category'].unique()"
   ]
  },
  {
   "cell_type": "code",
   "execution_count": 121,
   "metadata": {},
   "outputs": [
    {
     "data": {
      "text/html": [
       "<div>\n",
       "<style scoped>\n",
       "    .dataframe tbody tr th:only-of-type {\n",
       "        vertical-align: middle;\n",
       "    }\n",
       "\n",
       "    .dataframe tbody tr th {\n",
       "        vertical-align: top;\n",
       "    }\n",
       "\n",
       "    .dataframe thead th {\n",
       "        text-align: right;\n",
       "    }\n",
       "</style>\n",
       "<table border=\"1\" class=\"dataframe\">\n",
       "  <thead>\n",
       "    <tr style=\"text-align: right;\">\n",
       "      <th></th>\n",
       "      <th>AdvisoryNumber</th>\n",
       "      <th>Date</th>\n",
       "      <th>Lat</th>\n",
       "      <th>Long</th>\n",
       "      <th>Wind</th>\n",
       "      <th>Pres</th>\n",
       "      <th>Movement</th>\n",
       "      <th>Type</th>\n",
       "      <th>Name</th>\n",
       "      <th>Received</th>\n",
       "      <th>Forecaster</th>\n",
       "      <th>Hurricane Category</th>\n",
       "    </tr>\n",
       "  </thead>\n",
       "  <tbody>\n",
       "    <tr>\n",
       "      <th>28</th>\n",
       "      <td>21</td>\n",
       "      <td>09/04/2018 11:00</td>\n",
       "      <td>19.7</td>\n",
       "      <td>42.5</td>\n",
       "      <td>121.0</td>\n",
       "      <td>990</td>\n",
       "      <td>WNW at 12 MPH (295 deg)</td>\n",
       "      <td>Hurricane</td>\n",
       "      <td>Florence</td>\n",
       "      <td>09/04/2018 10:39</td>\n",
       "      <td>Berg</td>\n",
       "      <td>Hurricane Category 1</td>\n",
       "    </tr>\n",
       "    <tr>\n",
       "      <th>29</th>\n",
       "      <td>22</td>\n",
       "      <td>09/04/2018 17:00</td>\n",
       "      <td>20.3</td>\n",
       "      <td>43.2</td>\n",
       "      <td>137.0</td>\n",
       "      <td>984</td>\n",
       "      <td>WNW at 12 MPH (300 deg)</td>\n",
       "      <td>Hurricane</td>\n",
       "      <td>Florence</td>\n",
       "      <td>09/04/2018 16:33</td>\n",
       "      <td>Berg</td>\n",
       "      <td>Hurricane Category 1</td>\n",
       "    </tr>\n",
       "    <tr>\n",
       "      <th>30</th>\n",
       "      <td>23</td>\n",
       "      <td>09/04/2018 23:00</td>\n",
       "      <td>20.7</td>\n",
       "      <td>43.9</td>\n",
       "      <td>161.0</td>\n",
       "      <td>976</td>\n",
       "      <td>WNW at 12 MPH (300 deg)</td>\n",
       "      <td>Hurricane</td>\n",
       "      <td>Florence</td>\n",
       "      <td>09/04/2018 22:54</td>\n",
       "      <td>Blake</td>\n",
       "      <td>Hurricane Category 2</td>\n",
       "    </tr>\n",
       "    <tr>\n",
       "      <th>31</th>\n",
       "      <td>24</td>\n",
       "      <td>09/05/2018 05:00</td>\n",
       "      <td>21.4</td>\n",
       "      <td>44.8</td>\n",
       "      <td>169.0</td>\n",
       "      <td>976</td>\n",
       "      <td>NW at 13 MPH (305 deg)</td>\n",
       "      <td>Hurricane</td>\n",
       "      <td>Florence</td>\n",
       "      <td>09/05/2018 04:50</td>\n",
       "      <td>Roberts</td>\n",
       "      <td>Hurricane Category 2</td>\n",
       "    </tr>\n",
       "    <tr>\n",
       "      <th>32</th>\n",
       "      <td>25</td>\n",
       "      <td>09/05/2018 11:00</td>\n",
       "      <td>22.0</td>\n",
       "      <td>45.7</td>\n",
       "      <td>201.0</td>\n",
       "      <td>957</td>\n",
       "      <td>NW at 13 MPH (305 deg)</td>\n",
       "      <td>Hurricane</td>\n",
       "      <td>Florence</td>\n",
       "      <td>09/05/2018 10:42</td>\n",
       "      <td>Berg/rhome</td>\n",
       "      <td>Hurricane Category 3</td>\n",
       "    </tr>\n",
       "  </tbody>\n",
       "</table>\n",
       "</div>"
      ],
      "text/plain": [
       "   AdvisoryNumber              Date   Lat  Long   Wind  Pres  \\\n",
       "28             21  09/04/2018 11:00  19.7  42.5  121.0   990   \n",
       "29             22  09/04/2018 17:00  20.3  43.2  137.0   984   \n",
       "30             23  09/04/2018 23:00  20.7  43.9  161.0   976   \n",
       "31             24  09/05/2018 05:00  21.4  44.8  169.0   976   \n",
       "32             25  09/05/2018 11:00  22.0  45.7  201.0   957   \n",
       "\n",
       "                   Movement       Type      Name          Received  \\\n",
       "28  WNW at 12 MPH (295 deg)  Hurricane  Florence  09/04/2018 10:39   \n",
       "29  WNW at 12 MPH (300 deg)  Hurricane  Florence  09/04/2018 16:33   \n",
       "30  WNW at 12 MPH (300 deg)  Hurricane  Florence  09/04/2018 22:54   \n",
       "31   NW at 13 MPH (305 deg)  Hurricane  Florence  09/05/2018 04:50   \n",
       "32   NW at 13 MPH (305 deg)  Hurricane  Florence  09/05/2018 10:42   \n",
       "\n",
       "    Forecaster    Hurricane Category  \n",
       "28        Berg  Hurricane Category 1  \n",
       "29        Berg  Hurricane Category 1  \n",
       "30       Blake  Hurricane Category 2  \n",
       "31     Roberts  Hurricane Category 2  \n",
       "32  Berg/rhome  Hurricane Category 3  "
      ]
     },
     "execution_count": 121,
     "metadata": {},
     "output_type": "execute_result"
    }
   ],
   "source": [
    "hurricane = florence[florence['Hurricane Category'] != 'None']\n",
    "hurricane.head()"
   ]
  },
  {
   "cell_type": "markdown",
   "metadata": {},
   "source": [
    "#### Exploratory Data Analysis"
   ]
  },
  {
   "cell_type": "markdown",
   "metadata": {},
   "source": [
    "Missing values in Florence dataset were checked and visualized using the missingno package. A much simpler approach is to use the .info() method. There is one missing value on the Forecaster column, but this column was not needed anyway and was eventually dropped along with AdvisoryNumber and Received columns."
   ]
  },
  {
   "cell_type": "code",
   "execution_count": 122,
   "metadata": {},
   "outputs": [
    {
     "name": "stdout",
     "output_type": "stream",
     "text": [
      "<class 'pandas.core.frame.DataFrame'>\n",
      "RangeIndex: 105 entries, 0 to 104\n",
      "Data columns (total 12 columns):\n",
      " #   Column              Non-Null Count  Dtype  \n",
      "---  ------              --------------  -----  \n",
      " 0   AdvisoryNumber      105 non-null    object \n",
      " 1   Date                105 non-null    object \n",
      " 2   Lat                 105 non-null    float64\n",
      " 3   Long                105 non-null    float64\n",
      " 4   Wind                105 non-null    float64\n",
      " 5   Pres                105 non-null    int64  \n",
      " 6   Movement            105 non-null    object \n",
      " 7   Type                105 non-null    object \n",
      " 8   Name                105 non-null    object \n",
      " 9   Received            105 non-null    object \n",
      " 10  Forecaster          104 non-null    object \n",
      " 11  Hurricane Category  105 non-null    object \n",
      "dtypes: float64(3), int64(1), object(8)\n",
      "memory usage: 10.0+ KB\n"
     ]
    }
   ],
   "source": [
    "florence.info()"
   ]
  },
  {
   "cell_type": "code",
   "execution_count": null,
   "metadata": {},
   "outputs": [],
   "source": [
    "msn.bar(florence, color='darkolivegreen')"
   ]
  },
  {
   "cell_type": "code",
   "execution_count": 124,
   "metadata": {},
   "outputs": [
    {
     "data": {
      "text/html": [
       "<div>\n",
       "<style scoped>\n",
       "    .dataframe tbody tr th:only-of-type {\n",
       "        vertical-align: middle;\n",
       "    }\n",
       "\n",
       "    .dataframe tbody tr th {\n",
       "        vertical-align: top;\n",
       "    }\n",
       "\n",
       "    .dataframe thead th {\n",
       "        text-align: right;\n",
       "    }\n",
       "</style>\n",
       "<table border=\"1\" class=\"dataframe\">\n",
       "  <thead>\n",
       "    <tr style=\"text-align: right;\">\n",
       "      <th></th>\n",
       "      <th>Lat</th>\n",
       "      <th>Long</th>\n",
       "      <th>Wind</th>\n",
       "      <th>Pres</th>\n",
       "    </tr>\n",
       "  </thead>\n",
       "  <tbody>\n",
       "    <tr>\n",
       "      <th>count</th>\n",
       "      <td>105.000000</td>\n",
       "      <td>105.000000</td>\n",
       "      <td>105.000000</td>\n",
       "      <td>105.000000</td>\n",
       "    </tr>\n",
       "    <tr>\n",
       "      <th>mean</th>\n",
       "      <td>25.931429</td>\n",
       "      <td>56.938095</td>\n",
       "      <td>119.704762</td>\n",
       "      <td>981.571429</td>\n",
       "    </tr>\n",
       "    <tr>\n",
       "      <th>std</th>\n",
       "      <td>7.975917</td>\n",
       "      <td>20.878865</td>\n",
       "      <td>58.889062</td>\n",
       "      <td>22.780667</td>\n",
       "    </tr>\n",
       "    <tr>\n",
       "      <th>min</th>\n",
       "      <td>12.900000</td>\n",
       "      <td>18.400000</td>\n",
       "      <td>40.000000</td>\n",
       "      <td>939.000000</td>\n",
       "    </tr>\n",
       "    <tr>\n",
       "      <th>25%</th>\n",
       "      <td>18.900000</td>\n",
       "      <td>41.000000</td>\n",
       "      <td>64.000000</td>\n",
       "      <td>956.000000</td>\n",
       "    </tr>\n",
       "    <tr>\n",
       "      <th>50%</th>\n",
       "      <td>25.100000</td>\n",
       "      <td>60.000000</td>\n",
       "      <td>113.000000</td>\n",
       "      <td>989.000000</td>\n",
       "    </tr>\n",
       "    <tr>\n",
       "      <th>75%</th>\n",
       "      <td>33.600000</td>\n",
       "      <td>76.400000</td>\n",
       "      <td>169.000000</td>\n",
       "      <td>1002.000000</td>\n",
       "    </tr>\n",
       "    <tr>\n",
       "      <th>max</th>\n",
       "      <td>42.600000</td>\n",
       "      <td>82.900000</td>\n",
       "      <td>225.000000</td>\n",
       "      <td>1008.000000</td>\n",
       "    </tr>\n",
       "  </tbody>\n",
       "</table>\n",
       "</div>"
      ],
      "text/plain": [
       "              Lat        Long        Wind         Pres\n",
       "count  105.000000  105.000000  105.000000   105.000000\n",
       "mean    25.931429   56.938095  119.704762   981.571429\n",
       "std      7.975917   20.878865   58.889062    22.780667\n",
       "min     12.900000   18.400000   40.000000   939.000000\n",
       "25%     18.900000   41.000000   64.000000   956.000000\n",
       "50%     25.100000   60.000000  113.000000   989.000000\n",
       "75%     33.600000   76.400000  169.000000  1002.000000\n",
       "max     42.600000   82.900000  225.000000  1008.000000"
      ]
     },
     "execution_count": 124,
     "metadata": {},
     "output_type": "execute_result"
    }
   ],
   "source": [
    "florence.describe()"
   ]
  },
  {
   "cell_type": "markdown",
   "metadata": {},
   "source": [
    "Only working on date, latitude, longitude, wind speed, pressure, and name columns, the rest of unused columns were dropped."
   ]
  },
  {
   "cell_type": "code",
   "execution_count": 125,
   "metadata": {},
   "outputs": [
    {
     "data": {
      "text/html": [
       "<div>\n",
       "<style scoped>\n",
       "    .dataframe tbody tr th:only-of-type {\n",
       "        vertical-align: middle;\n",
       "    }\n",
       "\n",
       "    .dataframe tbody tr th {\n",
       "        vertical-align: top;\n",
       "    }\n",
       "\n",
       "    .dataframe thead th {\n",
       "        text-align: right;\n",
       "    }\n",
       "</style>\n",
       "<table border=\"1\" class=\"dataframe\">\n",
       "  <thead>\n",
       "    <tr style=\"text-align: right;\">\n",
       "      <th></th>\n",
       "      <th>Date</th>\n",
       "      <th>Lat</th>\n",
       "      <th>Long</th>\n",
       "      <th>Wind</th>\n",
       "      <th>Pres</th>\n",
       "      <th>Movement</th>\n",
       "      <th>Type</th>\n",
       "      <th>Name</th>\n",
       "      <th>Hurricane Category</th>\n",
       "    </tr>\n",
       "  </thead>\n",
       "  <tbody>\n",
       "    <tr>\n",
       "      <th>0</th>\n",
       "      <td>08/30/2018 11:00</td>\n",
       "      <td>12.9</td>\n",
       "      <td>18.4</td>\n",
       "      <td>48.0</td>\n",
       "      <td>1007</td>\n",
       "      <td>W at 12 MPH (280 deg)</td>\n",
       "      <td>Potential Tropical Cyclone</td>\n",
       "      <td>Six</td>\n",
       "      <td>None</td>\n",
       "    </tr>\n",
       "    <tr>\n",
       "      <th>1</th>\n",
       "      <td>08/30/2018 14:00</td>\n",
       "      <td>12.9</td>\n",
       "      <td>19.0</td>\n",
       "      <td>48.0</td>\n",
       "      <td>1007</td>\n",
       "      <td>W at 12 MPH (280 deg)</td>\n",
       "      <td>Potential Tropical Cyclone</td>\n",
       "      <td>Six</td>\n",
       "      <td>None</td>\n",
       "    </tr>\n",
       "    <tr>\n",
       "      <th>2</th>\n",
       "      <td>08/30/2018 17:00</td>\n",
       "      <td>12.9</td>\n",
       "      <td>19.4</td>\n",
       "      <td>48.0</td>\n",
       "      <td>1007</td>\n",
       "      <td>W at 9 MPH (280 deg)</td>\n",
       "      <td>Potential Tropical Cyclone</td>\n",
       "      <td>Six</td>\n",
       "      <td>None</td>\n",
       "    </tr>\n",
       "    <tr>\n",
       "      <th>3</th>\n",
       "      <td>08/30/2018 20:00</td>\n",
       "      <td>13.1</td>\n",
       "      <td>20.4</td>\n",
       "      <td>48.0</td>\n",
       "      <td>1007</td>\n",
       "      <td>W at 11 MPH (280 deg)</td>\n",
       "      <td>Potential Tropical Cyclone</td>\n",
       "      <td>Six</td>\n",
       "      <td>None</td>\n",
       "    </tr>\n",
       "    <tr>\n",
       "      <th>4</th>\n",
       "      <td>08/30/2018 23:00</td>\n",
       "      <td>13.2</td>\n",
       "      <td>20.9</td>\n",
       "      <td>56.0</td>\n",
       "      <td>1007</td>\n",
       "      <td>W at 13 MPH (280 deg)</td>\n",
       "      <td>Potential Tropical Cyclone</td>\n",
       "      <td>Six</td>\n",
       "      <td>None</td>\n",
       "    </tr>\n",
       "  </tbody>\n",
       "</table>\n",
       "</div>"
      ],
      "text/plain": [
       "               Date   Lat  Long  Wind  Pres               Movement  \\\n",
       "0  08/30/2018 11:00  12.9  18.4  48.0  1007  W at 12 MPH (280 deg)   \n",
       "1  08/30/2018 14:00  12.9  19.0  48.0  1007  W at 12 MPH (280 deg)   \n",
       "2  08/30/2018 17:00  12.9  19.4  48.0  1007   W at 9 MPH (280 deg)   \n",
       "3  08/30/2018 20:00  13.1  20.4  48.0  1007  W at 11 MPH (280 deg)   \n",
       "4  08/30/2018 23:00  13.2  20.9  56.0  1007  W at 13 MPH (280 deg)   \n",
       "\n",
       "                         Type Name Hurricane Category  \n",
       "0  Potential Tropical Cyclone  Six               None  \n",
       "1  Potential Tropical Cyclone  Six               None  \n",
       "2  Potential Tropical Cyclone  Six               None  \n",
       "3  Potential Tropical Cyclone  Six               None  \n",
       "4  Potential Tropical Cyclone  Six               None  "
      ]
     },
     "execution_count": 125,
     "metadata": {},
     "output_type": "execute_result"
    }
   ],
   "source": [
    "florence = florence.drop(['AdvisoryNumber', 'Received', 'Forecaster'], axis=1)\n",
    "florence.head()"
   ]
  },
  {
   "cell_type": "markdown",
   "metadata": {},
   "source": [
    "Here the longitude is west so a \"-\" was added in front of the number to correctly plot the data."
   ]
  },
  {
   "cell_type": "code",
   "execution_count": 126,
   "metadata": {},
   "outputs": [
    {
     "data": {
      "text/html": [
       "<div>\n",
       "<style scoped>\n",
       "    .dataframe tbody tr th:only-of-type {\n",
       "        vertical-align: middle;\n",
       "    }\n",
       "\n",
       "    .dataframe tbody tr th {\n",
       "        vertical-align: top;\n",
       "    }\n",
       "\n",
       "    .dataframe thead th {\n",
       "        text-align: right;\n",
       "    }\n",
       "</style>\n",
       "<table border=\"1\" class=\"dataframe\">\n",
       "  <thead>\n",
       "    <tr style=\"text-align: right;\">\n",
       "      <th></th>\n",
       "      <th>Date</th>\n",
       "      <th>Lat</th>\n",
       "      <th>Long</th>\n",
       "      <th>Wind</th>\n",
       "      <th>Pres</th>\n",
       "      <th>Movement</th>\n",
       "      <th>Type</th>\n",
       "      <th>Name</th>\n",
       "      <th>Hurricane Category</th>\n",
       "    </tr>\n",
       "  </thead>\n",
       "  <tbody>\n",
       "    <tr>\n",
       "      <th>0</th>\n",
       "      <td>08/30/2018 11:00</td>\n",
       "      <td>12.9</td>\n",
       "      <td>-18.4</td>\n",
       "      <td>48.0</td>\n",
       "      <td>1007</td>\n",
       "      <td>W at 12 MPH (280 deg)</td>\n",
       "      <td>Potential Tropical Cyclone</td>\n",
       "      <td>Six</td>\n",
       "      <td>None</td>\n",
       "    </tr>\n",
       "    <tr>\n",
       "      <th>1</th>\n",
       "      <td>08/30/2018 14:00</td>\n",
       "      <td>12.9</td>\n",
       "      <td>-19.0</td>\n",
       "      <td>48.0</td>\n",
       "      <td>1007</td>\n",
       "      <td>W at 12 MPH (280 deg)</td>\n",
       "      <td>Potential Tropical Cyclone</td>\n",
       "      <td>Six</td>\n",
       "      <td>None</td>\n",
       "    </tr>\n",
       "    <tr>\n",
       "      <th>2</th>\n",
       "      <td>08/30/2018 17:00</td>\n",
       "      <td>12.9</td>\n",
       "      <td>-19.4</td>\n",
       "      <td>48.0</td>\n",
       "      <td>1007</td>\n",
       "      <td>W at 9 MPH (280 deg)</td>\n",
       "      <td>Potential Tropical Cyclone</td>\n",
       "      <td>Six</td>\n",
       "      <td>None</td>\n",
       "    </tr>\n",
       "    <tr>\n",
       "      <th>3</th>\n",
       "      <td>08/30/2018 20:00</td>\n",
       "      <td>13.1</td>\n",
       "      <td>-20.4</td>\n",
       "      <td>48.0</td>\n",
       "      <td>1007</td>\n",
       "      <td>W at 11 MPH (280 deg)</td>\n",
       "      <td>Potential Tropical Cyclone</td>\n",
       "      <td>Six</td>\n",
       "      <td>None</td>\n",
       "    </tr>\n",
       "    <tr>\n",
       "      <th>4</th>\n",
       "      <td>08/30/2018 23:00</td>\n",
       "      <td>13.2</td>\n",
       "      <td>-20.9</td>\n",
       "      <td>56.0</td>\n",
       "      <td>1007</td>\n",
       "      <td>W at 13 MPH (280 deg)</td>\n",
       "      <td>Potential Tropical Cyclone</td>\n",
       "      <td>Six</td>\n",
       "      <td>None</td>\n",
       "    </tr>\n",
       "  </tbody>\n",
       "</table>\n",
       "</div>"
      ],
      "text/plain": [
       "               Date   Lat  Long  Wind  Pres               Movement  \\\n",
       "0  08/30/2018 11:00  12.9 -18.4  48.0  1007  W at 12 MPH (280 deg)   \n",
       "1  08/30/2018 14:00  12.9 -19.0  48.0  1007  W at 12 MPH (280 deg)   \n",
       "2  08/30/2018 17:00  12.9 -19.4  48.0  1007   W at 9 MPH (280 deg)   \n",
       "3  08/30/2018 20:00  13.1 -20.4  48.0  1007  W at 11 MPH (280 deg)   \n",
       "4  08/30/2018 23:00  13.2 -20.9  56.0  1007  W at 13 MPH (280 deg)   \n",
       "\n",
       "                         Type Name Hurricane Category  \n",
       "0  Potential Tropical Cyclone  Six               None  \n",
       "1  Potential Tropical Cyclone  Six               None  \n",
       "2  Potential Tropical Cyclone  Six               None  \n",
       "3  Potential Tropical Cyclone  Six               None  \n",
       "4  Potential Tropical Cyclone  Six               None  "
      ]
     },
     "execution_count": 126,
     "metadata": {},
     "output_type": "execute_result"
    }
   ],
   "source": [
    "florence['Long'] = 0 - florence['Long']\n",
    "florence.head()"
   ]
  },
  {
   "cell_type": "markdown",
   "metadata": {},
   "source": [
    "Latitude and Longitude were combined to create hurricane Coordinates column. For visualization purposes, the Coordinates column was converted into GeoPoint."
   ]
  },
  {
   "cell_type": "code",
   "execution_count": 127,
   "metadata": {},
   "outputs": [
    {
     "data": {
      "text/html": [
       "<div>\n",
       "<style scoped>\n",
       "    .dataframe tbody tr th:only-of-type {\n",
       "        vertical-align: middle;\n",
       "    }\n",
       "\n",
       "    .dataframe tbody tr th {\n",
       "        vertical-align: top;\n",
       "    }\n",
       "\n",
       "    .dataframe thead th {\n",
       "        text-align: right;\n",
       "    }\n",
       "</style>\n",
       "<table border=\"1\" class=\"dataframe\">\n",
       "  <thead>\n",
       "    <tr style=\"text-align: right;\">\n",
       "      <th></th>\n",
       "      <th>Date</th>\n",
       "      <th>Lat</th>\n",
       "      <th>Long</th>\n",
       "      <th>Wind</th>\n",
       "      <th>Pres</th>\n",
       "      <th>Movement</th>\n",
       "      <th>Type</th>\n",
       "      <th>Name</th>\n",
       "      <th>Hurricane Category</th>\n",
       "      <th>Coordinates</th>\n",
       "    </tr>\n",
       "  </thead>\n",
       "  <tbody>\n",
       "    <tr>\n",
       "      <th>0</th>\n",
       "      <td>08/30/2018 11:00</td>\n",
       "      <td>12.9</td>\n",
       "      <td>-18.4</td>\n",
       "      <td>48.0</td>\n",
       "      <td>1007</td>\n",
       "      <td>W at 12 MPH (280 deg)</td>\n",
       "      <td>Potential Tropical Cyclone</td>\n",
       "      <td>Six</td>\n",
       "      <td>None</td>\n",
       "      <td>[-18.4, 12.9]</td>\n",
       "    </tr>\n",
       "    <tr>\n",
       "      <th>1</th>\n",
       "      <td>08/30/2018 14:00</td>\n",
       "      <td>12.9</td>\n",
       "      <td>-19.0</td>\n",
       "      <td>48.0</td>\n",
       "      <td>1007</td>\n",
       "      <td>W at 12 MPH (280 deg)</td>\n",
       "      <td>Potential Tropical Cyclone</td>\n",
       "      <td>Six</td>\n",
       "      <td>None</td>\n",
       "      <td>[-19.0, 12.9]</td>\n",
       "    </tr>\n",
       "    <tr>\n",
       "      <th>2</th>\n",
       "      <td>08/30/2018 17:00</td>\n",
       "      <td>12.9</td>\n",
       "      <td>-19.4</td>\n",
       "      <td>48.0</td>\n",
       "      <td>1007</td>\n",
       "      <td>W at 9 MPH (280 deg)</td>\n",
       "      <td>Potential Tropical Cyclone</td>\n",
       "      <td>Six</td>\n",
       "      <td>None</td>\n",
       "      <td>[-19.4, 12.9]</td>\n",
       "    </tr>\n",
       "    <tr>\n",
       "      <th>3</th>\n",
       "      <td>08/30/2018 20:00</td>\n",
       "      <td>13.1</td>\n",
       "      <td>-20.4</td>\n",
       "      <td>48.0</td>\n",
       "      <td>1007</td>\n",
       "      <td>W at 11 MPH (280 deg)</td>\n",
       "      <td>Potential Tropical Cyclone</td>\n",
       "      <td>Six</td>\n",
       "      <td>None</td>\n",
       "      <td>[-20.4, 13.1]</td>\n",
       "    </tr>\n",
       "    <tr>\n",
       "      <th>4</th>\n",
       "      <td>08/30/2018 23:00</td>\n",
       "      <td>13.2</td>\n",
       "      <td>-20.9</td>\n",
       "      <td>56.0</td>\n",
       "      <td>1007</td>\n",
       "      <td>W at 13 MPH (280 deg)</td>\n",
       "      <td>Potential Tropical Cyclone</td>\n",
       "      <td>Six</td>\n",
       "      <td>None</td>\n",
       "      <td>[-20.9, 13.2]</td>\n",
       "    </tr>\n",
       "  </tbody>\n",
       "</table>\n",
       "</div>"
      ],
      "text/plain": [
       "               Date   Lat  Long  Wind  Pres               Movement  \\\n",
       "0  08/30/2018 11:00  12.9 -18.4  48.0  1007  W at 12 MPH (280 deg)   \n",
       "1  08/30/2018 14:00  12.9 -19.0  48.0  1007  W at 12 MPH (280 deg)   \n",
       "2  08/30/2018 17:00  12.9 -19.4  48.0  1007   W at 9 MPH (280 deg)   \n",
       "3  08/30/2018 20:00  13.1 -20.4  48.0  1007  W at 11 MPH (280 deg)   \n",
       "4  08/30/2018 23:00  13.2 -20.9  56.0  1007  W at 13 MPH (280 deg)   \n",
       "\n",
       "                         Type Name Hurricane Category    Coordinates  \n",
       "0  Potential Tropical Cyclone  Six               None  [-18.4, 12.9]  \n",
       "1  Potential Tropical Cyclone  Six               None  [-19.0, 12.9]  \n",
       "2  Potential Tropical Cyclone  Six               None  [-19.4, 12.9]  \n",
       "3  Potential Tropical Cyclone  Six               None  [-20.4, 13.1]  \n",
       "4  Potential Tropical Cyclone  Six               None  [-20.9, 13.2]  "
      ]
     },
     "execution_count": 127,
     "metadata": {},
     "output_type": "execute_result"
    }
   ],
   "source": [
    "florence['Coordinates'] = florence[['Long', 'Lat']].values.tolist()\n",
    "florence.head()"
   ]
  },
  {
   "cell_type": "code",
   "execution_count": 128,
   "metadata": {},
   "outputs": [
    {
     "data": {
      "text/html": [
       "<div>\n",
       "<style scoped>\n",
       "    .dataframe tbody tr th:only-of-type {\n",
       "        vertical-align: middle;\n",
       "    }\n",
       "\n",
       "    .dataframe tbody tr th {\n",
       "        vertical-align: top;\n",
       "    }\n",
       "\n",
       "    .dataframe thead th {\n",
       "        text-align: right;\n",
       "    }\n",
       "</style>\n",
       "<table border=\"1\" class=\"dataframe\">\n",
       "  <thead>\n",
       "    <tr style=\"text-align: right;\">\n",
       "      <th></th>\n",
       "      <th>Date</th>\n",
       "      <th>Lat</th>\n",
       "      <th>Long</th>\n",
       "      <th>Wind</th>\n",
       "      <th>Pres</th>\n",
       "      <th>Movement</th>\n",
       "      <th>Type</th>\n",
       "      <th>Name</th>\n",
       "      <th>Hurricane Category</th>\n",
       "      <th>Coordinates</th>\n",
       "    </tr>\n",
       "  </thead>\n",
       "  <tbody>\n",
       "    <tr>\n",
       "      <th>0</th>\n",
       "      <td>08/30/2018 11:00</td>\n",
       "      <td>12.9</td>\n",
       "      <td>-18.4</td>\n",
       "      <td>48.0</td>\n",
       "      <td>1007</td>\n",
       "      <td>W at 12 MPH (280 deg)</td>\n",
       "      <td>Potential Tropical Cyclone</td>\n",
       "      <td>Six</td>\n",
       "      <td>None</td>\n",
       "      <td>POINT (-18.4 12.9)</td>\n",
       "    </tr>\n",
       "    <tr>\n",
       "      <th>1</th>\n",
       "      <td>08/30/2018 14:00</td>\n",
       "      <td>12.9</td>\n",
       "      <td>-19.0</td>\n",
       "      <td>48.0</td>\n",
       "      <td>1007</td>\n",
       "      <td>W at 12 MPH (280 deg)</td>\n",
       "      <td>Potential Tropical Cyclone</td>\n",
       "      <td>Six</td>\n",
       "      <td>None</td>\n",
       "      <td>POINT (-19 12.9)</td>\n",
       "    </tr>\n",
       "    <tr>\n",
       "      <th>2</th>\n",
       "      <td>08/30/2018 17:00</td>\n",
       "      <td>12.9</td>\n",
       "      <td>-19.4</td>\n",
       "      <td>48.0</td>\n",
       "      <td>1007</td>\n",
       "      <td>W at 9 MPH (280 deg)</td>\n",
       "      <td>Potential Tropical Cyclone</td>\n",
       "      <td>Six</td>\n",
       "      <td>None</td>\n",
       "      <td>POINT (-19.4 12.9)</td>\n",
       "    </tr>\n",
       "    <tr>\n",
       "      <th>3</th>\n",
       "      <td>08/30/2018 20:00</td>\n",
       "      <td>13.1</td>\n",
       "      <td>-20.4</td>\n",
       "      <td>48.0</td>\n",
       "      <td>1007</td>\n",
       "      <td>W at 11 MPH (280 deg)</td>\n",
       "      <td>Potential Tropical Cyclone</td>\n",
       "      <td>Six</td>\n",
       "      <td>None</td>\n",
       "      <td>POINT (-20.4 13.1)</td>\n",
       "    </tr>\n",
       "    <tr>\n",
       "      <th>4</th>\n",
       "      <td>08/30/2018 23:00</td>\n",
       "      <td>13.2</td>\n",
       "      <td>-20.9</td>\n",
       "      <td>56.0</td>\n",
       "      <td>1007</td>\n",
       "      <td>W at 13 MPH (280 deg)</td>\n",
       "      <td>Potential Tropical Cyclone</td>\n",
       "      <td>Six</td>\n",
       "      <td>None</td>\n",
       "      <td>POINT (-20.9 13.2)</td>\n",
       "    </tr>\n",
       "  </tbody>\n",
       "</table>\n",
       "</div>"
      ],
      "text/plain": [
       "               Date   Lat  Long  Wind  Pres               Movement  \\\n",
       "0  08/30/2018 11:00  12.9 -18.4  48.0  1007  W at 12 MPH (280 deg)   \n",
       "1  08/30/2018 14:00  12.9 -19.0  48.0  1007  W at 12 MPH (280 deg)   \n",
       "2  08/30/2018 17:00  12.9 -19.4  48.0  1007   W at 9 MPH (280 deg)   \n",
       "3  08/30/2018 20:00  13.1 -20.4  48.0  1007  W at 11 MPH (280 deg)   \n",
       "4  08/30/2018 23:00  13.2 -20.9  56.0  1007  W at 13 MPH (280 deg)   \n",
       "\n",
       "                         Type Name Hurricane Category         Coordinates  \n",
       "0  Potential Tropical Cyclone  Six               None  POINT (-18.4 12.9)  \n",
       "1  Potential Tropical Cyclone  Six               None    POINT (-19 12.9)  \n",
       "2  Potential Tropical Cyclone  Six               None  POINT (-19.4 12.9)  \n",
       "3  Potential Tropical Cyclone  Six               None  POINT (-20.4 13.1)  \n",
       "4  Potential Tropical Cyclone  Six               None  POINT (-20.9 13.2)  "
      ]
     },
     "execution_count": 128,
     "metadata": {},
     "output_type": "execute_result"
    }
   ],
   "source": [
    "florence['Coordinates'] = florence['Coordinates'].apply(Point)\n",
    "florence.head()"
   ]
  },
  {
   "cell_type": "markdown",
   "metadata": {},
   "source": [
    "By checking, the data type of florence and its Coordinates column are pandas DataFrame and Series, respectively. These were converted into GeoDataFrame and GeoSeries, or into geospatial data, using the geopandas package. "
   ]
  },
  {
   "cell_type": "code",
   "execution_count": 129,
   "metadata": {},
   "outputs": [
    {
     "data": {
      "text/html": [
       "<div>\n",
       "<style scoped>\n",
       "    .dataframe tbody tr th:only-of-type {\n",
       "        vertical-align: middle;\n",
       "    }\n",
       "\n",
       "    .dataframe tbody tr th {\n",
       "        vertical-align: top;\n",
       "    }\n",
       "\n",
       "    .dataframe thead th {\n",
       "        text-align: right;\n",
       "    }\n",
       "</style>\n",
       "<table border=\"1\" class=\"dataframe\">\n",
       "  <thead>\n",
       "    <tr style=\"text-align: right;\">\n",
       "      <th></th>\n",
       "      <th>Date</th>\n",
       "      <th>Lat</th>\n",
       "      <th>Long</th>\n",
       "      <th>Wind</th>\n",
       "      <th>Pres</th>\n",
       "      <th>Movement</th>\n",
       "      <th>Type</th>\n",
       "      <th>Name</th>\n",
       "      <th>Hurricane Category</th>\n",
       "      <th>Coordinates</th>\n",
       "    </tr>\n",
       "  </thead>\n",
       "  <tbody>\n",
       "    <tr>\n",
       "      <th>0</th>\n",
       "      <td>08/30/2018 11:00</td>\n",
       "      <td>12.9</td>\n",
       "      <td>-18.4</td>\n",
       "      <td>48.0</td>\n",
       "      <td>1007</td>\n",
       "      <td>W at 12 MPH (280 deg)</td>\n",
       "      <td>Potential Tropical Cyclone</td>\n",
       "      <td>Six</td>\n",
       "      <td>None</td>\n",
       "      <td>POINT (-18.40000 12.90000)</td>\n",
       "    </tr>\n",
       "    <tr>\n",
       "      <th>1</th>\n",
       "      <td>08/30/2018 14:00</td>\n",
       "      <td>12.9</td>\n",
       "      <td>-19.0</td>\n",
       "      <td>48.0</td>\n",
       "      <td>1007</td>\n",
       "      <td>W at 12 MPH (280 deg)</td>\n",
       "      <td>Potential Tropical Cyclone</td>\n",
       "      <td>Six</td>\n",
       "      <td>None</td>\n",
       "      <td>POINT (-19.00000 12.90000)</td>\n",
       "    </tr>\n",
       "    <tr>\n",
       "      <th>2</th>\n",
       "      <td>08/30/2018 17:00</td>\n",
       "      <td>12.9</td>\n",
       "      <td>-19.4</td>\n",
       "      <td>48.0</td>\n",
       "      <td>1007</td>\n",
       "      <td>W at 9 MPH (280 deg)</td>\n",
       "      <td>Potential Tropical Cyclone</td>\n",
       "      <td>Six</td>\n",
       "      <td>None</td>\n",
       "      <td>POINT (-19.40000 12.90000)</td>\n",
       "    </tr>\n",
       "    <tr>\n",
       "      <th>3</th>\n",
       "      <td>08/30/2018 20:00</td>\n",
       "      <td>13.1</td>\n",
       "      <td>-20.4</td>\n",
       "      <td>48.0</td>\n",
       "      <td>1007</td>\n",
       "      <td>W at 11 MPH (280 deg)</td>\n",
       "      <td>Potential Tropical Cyclone</td>\n",
       "      <td>Six</td>\n",
       "      <td>None</td>\n",
       "      <td>POINT (-20.40000 13.10000)</td>\n",
       "    </tr>\n",
       "    <tr>\n",
       "      <th>4</th>\n",
       "      <td>08/30/2018 23:00</td>\n",
       "      <td>13.2</td>\n",
       "      <td>-20.9</td>\n",
       "      <td>56.0</td>\n",
       "      <td>1007</td>\n",
       "      <td>W at 13 MPH (280 deg)</td>\n",
       "      <td>Potential Tropical Cyclone</td>\n",
       "      <td>Six</td>\n",
       "      <td>None</td>\n",
       "      <td>POINT (-20.90000 13.20000)</td>\n",
       "    </tr>\n",
       "  </tbody>\n",
       "</table>\n",
       "</div>"
      ],
      "text/plain": [
       "               Date   Lat  Long  Wind  Pres               Movement  \\\n",
       "0  08/30/2018 11:00  12.9 -18.4  48.0  1007  W at 12 MPH (280 deg)   \n",
       "1  08/30/2018 14:00  12.9 -19.0  48.0  1007  W at 12 MPH (280 deg)   \n",
       "2  08/30/2018 17:00  12.9 -19.4  48.0  1007   W at 9 MPH (280 deg)   \n",
       "3  08/30/2018 20:00  13.1 -20.4  48.0  1007  W at 11 MPH (280 deg)   \n",
       "4  08/30/2018 23:00  13.2 -20.9  56.0  1007  W at 13 MPH (280 deg)   \n",
       "\n",
       "                         Type Name Hurricane Category  \\\n",
       "0  Potential Tropical Cyclone  Six               None   \n",
       "1  Potential Tropical Cyclone  Six               None   \n",
       "2  Potential Tropical Cyclone  Six               None   \n",
       "3  Potential Tropical Cyclone  Six               None   \n",
       "4  Potential Tropical Cyclone  Six               None   \n",
       "\n",
       "                  Coordinates  \n",
       "0  POINT (-18.40000 12.90000)  \n",
       "1  POINT (-19.00000 12.90000)  \n",
       "2  POINT (-19.40000 12.90000)  \n",
       "3  POINT (-20.40000 13.10000)  \n",
       "4  POINT (-20.90000 13.20000)  "
      ]
     },
     "execution_count": 129,
     "metadata": {},
     "output_type": "execute_result"
    }
   ],
   "source": [
    "florence = geopandas.GeoDataFrame(florence, geometry='Coordinates')\n",
    "florence.head()"
   ]
  },
  {
   "cell_type": "code",
   "execution_count": 130,
   "metadata": {},
   "outputs": [
    {
     "data": {
      "text/plain": [
       "geopandas.geoseries.GeoSeries"
      ]
     },
     "execution_count": 130,
     "metadata": {},
     "output_type": "execute_result"
    }
   ],
   "source": [
    "type(florence['Coordinates'])"
   ]
  },
  {
   "cell_type": "code",
   "execution_count": 131,
   "metadata": {},
   "outputs": [
    {
     "data": {
      "text/plain": [
       "geopandas.geodataframe.GeoDataFrame"
      ]
     },
     "execution_count": 131,
     "metadata": {},
     "output_type": "execute_result"
    }
   ],
   "source": [
    "type(florence)"
   ]
  },
  {
   "cell_type": "code",
   "execution_count": 132,
   "metadata": {},
   "outputs": [
    {
     "data": {
      "text/plain": [
       "Name\n",
       "FLORENCE     6\n",
       "Florence    85\n",
       "SIX          4\n",
       "Six         10\n",
       "Name: Type, dtype: int64"
      ]
     },
     "execution_count": 132,
     "metadata": {},
     "output_type": "execute_result"
    }
   ],
   "source": [
    "florence.groupby('Name').Type.count()"
   ]
  },
  {
   "cell_type": "code",
   "execution_count": 139,
   "metadata": {},
   "outputs": [
    {
     "data": {
      "text/plain": [
       "Name\n",
       "Florence    91\n",
       "Six         14\n",
       "Name: Type, dtype: int64"
      ]
     },
     "execution_count": 139,
     "metadata": {},
     "output_type": "execute_result"
    }
   ],
   "source": [
    "#florence['Name'] = florence['Name'].str.lower()\n",
    "florence['Name'] = florence['Name'].str.title()\n",
    "florence.groupby('Name').Type.count()"
   ]
  },
  {
   "cell_type": "markdown",
   "metadata": {},
   "source": [
    "Finding the mean and maximum wind speed of hurricane Florence"
   ]
  },
  {
   "cell_type": "code",
   "execution_count": 133,
   "metadata": {},
   "outputs": [
    {
     "name": "stdout",
     "output_type": "stream",
     "text": [
      "Mean wind speed: 119.705 kph\n"
     ]
    }
   ],
   "source": [
    "print(\"Mean wind speed: {} kph\".format(round(florence.Wind.mean(), 3)))"
   ]
  },
  {
   "cell_type": "code",
   "execution_count": 134,
   "metadata": {},
   "outputs": [
    {
     "name": "stdout",
     "output_type": "stream",
     "text": [
      "Maximum wind speed: 225.0 kph\n"
     ]
    }
   ],
   "source": [
    "print(\"Maximum wind speed: {} kph\".format(round(florence.Wind.max(), 3)))"
   ]
  },
  {
   "cell_type": "markdown",
   "metadata": {},
   "source": [
    "#### Visualization"
   ]
  },
  {
   "cell_type": "code",
   "execution_count": 135,
   "metadata": {},
   "outputs": [
    {
     "name": "stderr",
     "output_type": "stream",
     "text": [
      "C:\\Users\\Renz\\AppData\\Local\\Temp\\ipykernel_7764\\4205924905.py:14: MatplotlibDeprecationWarning: The get_cmap function was deprecated in Matplotlib 3.7 and will be removed two minor releases later. Use ``matplotlib.colormaps[name]`` or ``matplotlib.colormaps.get_cmap(obj)`` instead.\n",
      "  cmap = plt.cm.get_cmap(\"Oranges\")\n"
     ]
    },
    {
     "data": {
      "image/png": "[encoded data removed]",
      "text/plain": [
       "<Figure size 2500x500 with 2 Axes>"
      ]
     },
     "metadata": {},
     "output_type": "display_data"
    }
   ],
   "source": [
    "from matplotlib.cm import ScalarMappable\n",
    "\n",
    "# Plotting the US map\n",
    "fig, ax = plt.subplots(1, figsize=(25, 5))\n",
    "map = country[country['NAME'].isin(['Alaska', 'Hawaii'])== False].plot(ax=ax, color='#3B3C6E')\n",
    "\n",
    "# Overlaying the hurricane position on the US map\n",
    "florence.plot(ax=map,\n",
    "              column='Wind',\n",
    "              marker='<',\n",
    "              markersize=50,\n",
    "              cmap='Oranges')\n",
    "\n",
    "cmap = plt.cm.get_cmap(\"Oranges\")\n",
    "sm = ScalarMappable(cmap=cmap, norm=plt.Normalize(min(florence['Wind']), max(florence['Wind'])))\n",
    "sm.set_array([]) # initializing the scalar mappable with an empty array\n",
    "\n",
    "plt.colorbar(sm, label=\"Wind Speed (kph)\", ax=ax)\n",
    "\n",
    "ax.set_title('Path of Hurricane Florence on the US Map', fontsize=15)\n",
    "ax.set_xlabel('Longitude', fontsize=10)\n",
    "ax.set_ylabel('Latitude', fontsize=10)\n",
    "\n",
    "# plt.legend(labels=[\"Wind Speed (mph)\\ndarker = stronger\"],\n",
    "#            fontsize=13,\n",
    "#            facecolor='#3B3C6E',\n",
    "#            markerscale=1,\n",
    "#            loc='best',\n",
    "#            scatterpoints=3,\n",
    "#            fancybox=True,\n",
    "#            edgecolor='#3B3C6E')\n",
    "\n",
    "#turn_off_axis = ax.axis('off')\n",
    "\n",
    "plt.show()"
   ]
  },
  {
   "cell_type": "markdown",
   "metadata": {},
   "source": [
    "In conclusion, Hurricane Florence exhibited sustained winds of 119.705 kph with a maximum of 225.0 kph. Based on the Saffir-Simpson Hurricane Wind Scale (SSHWS), this hurricane is classified as a Category 4 hurricane which is considered extremely dangerous, capable of causing catastrophic damage.\n",
    "\n",
    "Upon reaching the shore, winds weakened to 100-125 kph, but this was still strong enough to generate very high waves (8.839-12.497 m) with overhanging crests. These wind speeds was expected to result in considerable structural damage, with broken or uprooted trees."
   ]
  }
 ],
 "metadata": {
  "kernelspec": {
   "display_name": "Python 3",
   "language": "python",
   "name": "python3"
  },
  "language_info": {
   "codemirror_mode": {
    "name": "ipython",
    "version": 3
   },
   "file_extension": ".py",
   "mimetype": "text/x-python",
   "name": "python",
   "nbconvert_exporter": "python",
   "pygments_lexer": "ipython3",
   "version": "3.12.2"
  }
 },
 "nbformat": 4,
 "nbformat_minor": 2
}
